{
  "cells": [
    {
      "cell_type": "markdown",
      "metadata": {
        "id": "view-in-github",
        "colab_type": "text"
      },
      "source": [
        "<a href=\"https://colab.research.google.com/github/AnithaKandugula/NLP/blob/main/2303A510F2(Lab_Test).ipynb\" target=\"_parent\"><img src=\"https://colab.research.google.com/assets/colab-badge.svg\" alt=\"Open In Colab\"/></a>"
      ]
    },
    {
      "cell_type": "code",
      "execution_count": null,
      "metadata": {
        "colab": {
          "base_uri": "https://localhost:8080/"
        },
        "id": "OsJtlKwwACHw",
        "outputId": "c431154d-b730-4a8e-ea20-6dd545163dc1"
      },
      "outputs": [
        {
          "name": "stdout",
          "output_type": "stream",
          "text": [
            "Requirement already satisfied: spacy in /usr/local/lib/python3.12/dist-packages (3.8.7)\n",
            "Requirement already satisfied: spacy-legacy<3.1.0,>=3.0.11 in /usr/local/lib/python3.12/dist-packages (from spacy) (3.0.12)\n",
            "Requirement already satisfied: spacy-loggers<2.0.0,>=1.0.0 in /usr/local/lib/python3.12/dist-packages (from spacy) (1.0.5)\n",
            "Requirement already satisfied: murmurhash<1.1.0,>=0.28.0 in /usr/local/lib/python3.12/dist-packages (from spacy) (1.0.13)\n",
            "Requirement already satisfied: cymem<2.1.0,>=2.0.2 in /usr/local/lib/python3.12/dist-packages (from spacy) (2.0.11)\n",
            "Requirement already satisfied: preshed<3.1.0,>=3.0.2 in /usr/local/lib/python3.12/dist-packages (from spacy) (3.0.10)\n",
            "Requirement already satisfied: thinc<8.4.0,>=8.3.4 in /usr/local/lib/python3.12/dist-packages (from spacy) (8.3.6)\n",
            "Requirement already satisfied: wasabi<1.2.0,>=0.9.1 in /usr/local/lib/python3.12/dist-packages (from spacy) (1.1.3)\n",
            "Requirement already satisfied: srsly<3.0.0,>=2.4.3 in /usr/local/lib/python3.12/dist-packages (from spacy) (2.5.1)\n",
            "Requirement already satisfied: catalogue<2.1.0,>=2.0.6 in /usr/local/lib/python3.12/dist-packages (from spacy) (2.0.10)\n",
            "Requirement already satisfied: weasel<0.5.0,>=0.1.0 in /usr/local/lib/python3.12/dist-packages (from spacy) (0.4.1)\n",
            "Requirement already satisfied: typer<1.0.0,>=0.3.0 in /usr/local/lib/python3.12/dist-packages (from spacy) (0.17.4)\n",
            "Requirement already satisfied: tqdm<5.0.0,>=4.38.0 in /usr/local/lib/python3.12/dist-packages (from spacy) (4.67.1)\n",
            "Requirement already satisfied: numpy>=1.19.0 in /usr/local/lib/python3.12/dist-packages (from spacy) (2.0.2)\n",
            "Requirement already satisfied: requests<3.0.0,>=2.13.0 in /usr/local/lib/python3.12/dist-packages (from spacy) (2.32.4)\n",
            "Requirement already satisfied: pydantic!=1.8,!=1.8.1,<3.0.0,>=1.7.4 in /usr/local/lib/python3.12/dist-packages (from spacy) (2.11.7)\n",
            "Requirement already satisfied: jinja2 in /usr/local/lib/python3.12/dist-packages (from spacy) (3.1.6)\n",
            "Requirement already satisfied: setuptools in /usr/local/lib/python3.12/dist-packages (from spacy) (75.2.0)\n",
            "Requirement already satisfied: packaging>=20.0 in /usr/local/lib/python3.12/dist-packages (from spacy) (25.0)\n",
            "Requirement already satisfied: langcodes<4.0.0,>=3.2.0 in /usr/local/lib/python3.12/dist-packages (from spacy) (3.5.0)\n",
            "Requirement already satisfied: language-data>=1.2 in /usr/local/lib/python3.12/dist-packages (from langcodes<4.0.0,>=3.2.0->spacy) (1.3.0)\n",
            "Requirement already satisfied: annotated-types>=0.6.0 in /usr/local/lib/python3.12/dist-packages (from pydantic!=1.8,!=1.8.1,<3.0.0,>=1.7.4->spacy) (0.7.0)\n",
            "Requirement already satisfied: pydantic-core==2.33.2 in /usr/local/lib/python3.12/dist-packages (from pydantic!=1.8,!=1.8.1,<3.0.0,>=1.7.4->spacy) (2.33.2)\n",
            "Requirement already satisfied: typing-extensions>=4.12.2 in /usr/local/lib/python3.12/dist-packages (from pydantic!=1.8,!=1.8.1,<3.0.0,>=1.7.4->spacy) (4.15.0)\n",
            "Requirement already satisfied: typing-inspection>=0.4.0 in /usr/local/lib/python3.12/dist-packages (from pydantic!=1.8,!=1.8.1,<3.0.0,>=1.7.4->spacy) (0.4.1)\n",
            "Requirement already satisfied: charset_normalizer<4,>=2 in /usr/local/lib/python3.12/dist-packages (from requests<3.0.0,>=2.13.0->spacy) (3.4.3)\n",
            "Requirement already satisfied: idna<4,>=2.5 in /usr/local/lib/python3.12/dist-packages (from requests<3.0.0,>=2.13.0->spacy) (3.10)\n",
            "Requirement already satisfied: urllib3<3,>=1.21.1 in /usr/local/lib/python3.12/dist-packages (from requests<3.0.0,>=2.13.0->spacy) (2.5.0)\n",
            "Requirement already satisfied: certifi>=2017.4.17 in /usr/local/lib/python3.12/dist-packages (from requests<3.0.0,>=2.13.0->spacy) (2025.8.3)\n",
            "Requirement already satisfied: blis<1.4.0,>=1.3.0 in /usr/local/lib/python3.12/dist-packages (from thinc<8.4.0,>=8.3.4->spacy) (1.3.0)\n",
            "Requirement already satisfied: confection<1.0.0,>=0.0.1 in /usr/local/lib/python3.12/dist-packages (from thinc<8.4.0,>=8.3.4->spacy) (0.1.5)\n",
            "Requirement already satisfied: click>=8.0.0 in /usr/local/lib/python3.12/dist-packages (from typer<1.0.0,>=0.3.0->spacy) (8.2.1)\n",
            "Requirement already satisfied: shellingham>=1.3.0 in /usr/local/lib/python3.12/dist-packages (from typer<1.0.0,>=0.3.0->spacy) (1.5.4)\n",
            "Requirement already satisfied: rich>=10.11.0 in /usr/local/lib/python3.12/dist-packages (from typer<1.0.0,>=0.3.0->spacy) (13.9.4)\n",
            "Requirement already satisfied: cloudpathlib<1.0.0,>=0.7.0 in /usr/local/lib/python3.12/dist-packages (from weasel<0.5.0,>=0.1.0->spacy) (0.22.0)\n",
            "Requirement already satisfied: smart-open<8.0.0,>=5.2.1 in /usr/local/lib/python3.12/dist-packages (from weasel<0.5.0,>=0.1.0->spacy) (7.3.1)\n",
            "Requirement already satisfied: MarkupSafe>=2.0 in /usr/local/lib/python3.12/dist-packages (from jinja2->spacy) (3.0.2)\n",
            "Requirement already satisfied: marisa-trie>=1.1.0 in /usr/local/lib/python3.12/dist-packages (from language-data>=1.2->langcodes<4.0.0,>=3.2.0->spacy) (1.3.1)\n",
            "Requirement already satisfied: markdown-it-py>=2.2.0 in /usr/local/lib/python3.12/dist-packages (from rich>=10.11.0->typer<1.0.0,>=0.3.0->spacy) (4.0.0)\n",
            "Requirement already satisfied: pygments<3.0.0,>=2.13.0 in /usr/local/lib/python3.12/dist-packages (from rich>=10.11.0->typer<1.0.0,>=0.3.0->spacy) (2.19.2)\n",
            "Requirement already satisfied: wrapt in /usr/local/lib/python3.12/dist-packages (from smart-open<8.0.0,>=5.2.1->weasel<0.5.0,>=0.1.0->spacy) (1.17.3)\n",
            "Requirement already satisfied: mdurl~=0.1 in /usr/local/lib/python3.12/dist-packages (from markdown-it-py>=2.2.0->rich>=10.11.0->typer<1.0.0,>=0.3.0->spacy) (0.1.2)\n"
          ]
        }
      ],
      "source": [
        "!pip install spacy"
      ]
    },
    {
      "cell_type": "code",
      "execution_count": null,
      "metadata": {
        "colab": {
          "base_uri": "https://localhost:8080/"
        },
        "id": "KQZPFhaFAdlj",
        "outputId": "53ca7f90-8d26-4b90-ea99-3fb79d76f699"
      },
      "outputs": [
        {
          "name": "stdout",
          "output_type": "stream",
          "text": [
            "          id  keyword                 location  \\\n",
            "0          0   ablaze                      NaN   \n",
            "1          1   ablaze                      NaN   \n",
            "2          2   ablaze            New York City   \n",
            "3          3   ablaze           Morgantown, WV   \n",
            "4          4   ablaze                      NaN   \n",
            "...      ...      ...                      ...   \n",
            "11365  11365  wrecked  Blue State in a red sea   \n",
            "11366  11366  wrecked               arohaonces   \n",
            "11367  11367  wrecked                       🇵🇭   \n",
            "11368  11368  wrecked           auroraborealis   \n",
            "11369  11369  wrecked                      NaN   \n",
            "\n",
            "                                                    text  target  \n",
            "0      Communal violence in Bhainsa, Telangana. \"Ston...       1  \n",
            "1      Telangana: Section 144 has been imposed in Bha...       1  \n",
            "2      Arsonist sets cars ablaze at dealership https:...       1  \n",
            "3      Arsonist sets cars ablaze at dealership https:...       1  \n",
            "4      \"Lord Jesus, your love brings freedom and pard...       0  \n",
            "...                                                  ...     ...  \n",
            "11365  Media should have warned us well in advance. T...       0  \n",
            "11366  i feel directly attacked 💀 i consider moonbin ...       0  \n",
            "11367  i feel directly attacked 💀 i consider moonbin ...       0  \n",
            "11368  ok who remember \"outcast\" nd the \"dora\" au?? T...       0  \n",
            "11369     Jake Corway wrecked while running 14th at IRP.       1  \n",
            "\n",
            "[11370 rows x 5 columns]\n"
          ]
        }
      ],
      "source": [
        "import pandas as pd\n",
        "df=pd.read_csv('/content/tweets[1].csv')\n",
        "print(df)"
      ]
    },
    {
      "cell_type": "code",
      "source": [
        "import spacy\n",
        "nlp = spacy.load(\"en_core_web_sm\")\n",
        "def preprocess_tokens(text):\n",
        "    doc = nlp(str(text))\n",
        "    tokens = [token.lemma_.lower() for token in doc if token.is_alpha and not token.is_stop]\n",
        "    return tokens\n",
        "df[\"tokens\"] = df[\"text\"].apply(preprocess_tokens)\n",
        "print(df[[\"text\", \"tokens\"]].head())\n"
      ],
      "metadata": {
        "colab": {
          "base_uri": "https://localhost:8080/"
        },
        "id": "5UN3NgihCkMb",
        "outputId": "d9bcd6cd-eb59-4b0f-d59a-d2608165c8d3"
      },
      "execution_count": 9,
      "outputs": [
        {
          "output_type": "stream",
          "name": "stdout",
          "text": [
            "                                                text  \\\n",
            "0  Communal violence in Bhainsa, Telangana. \"Ston...   \n",
            "1  Telangana: Section 144 has been imposed in Bha...   \n",
            "2  Arsonist sets cars ablaze at dealership https:...   \n",
            "3  Arsonist sets cars ablaze at dealership https:...   \n",
            "4  \"Lord Jesus, your love brings freedom and pard...   \n",
            "\n",
            "                                              tokens  \n",
            "0  [communal, violence, bhainsa, telangana, stone...  \n",
            "1  [telangana, section, impose, bhainsa, january,...  \n",
            "2           [arsonist, set, car, ablaze, dealership]  \n",
            "3           [arsonist, set, car, ablaze, dealership]  \n",
            "4  [lord, jesus, love, bring, freedom, pardon, fi...  \n"
          ]
        }
      ]
    },
    {
      "cell_type": "code",
      "source": [
        "import pandas as pd\n",
        "import spacy\n",
        "from sklearn.feature_extraction.text import TfidfVectorizer\n",
        "\n",
        "nlp = spacy.load(\"en_core_web_sm\")\n",
        "\n",
        "df = pd.read_csv(\"/content/tweets[1].csv\")\n",
        "\n",
        "def preprocess_text(text):\n",
        "    doc = nlp(text.lower())\n",
        "    tokens = [\n",
        "        token.lemma_\n",
        "        for token in doc\n",
        "        if token.is_alpha and not token.is_stop\n",
        "    ]\n",
        "    return \" \".join(tokens)\n",
        "\n",
        "df[\"clean_text\"] = df[\"text\"].apply(preprocess_text)\n",
        "\n",
        "tfidf = TfidfVectorizer(max_features=5000)\n",
        "\n",
        "X_tfidf = tfidf.fit_transform(df[\"clean_text\"])\n",
        "\n",
        "feature_names = tfidf.get_feature_names_out()\n",
        "\n",
        "print(\"Shape of TF-IDF matrix:\", X_tfidf.shape)\n",
        "\n",
        "tfidf_df = pd.DataFrame(X_tfidf.toarray(), columns=feature_names)\n",
        "\n",
        "print(tfidf_df.iloc[:10, :15])"
      ],
      "metadata": {
        "colab": {
          "base_uri": "https://localhost:8080/"
        },
        "id": "9K47zJtAFenu",
        "outputId": "16ed29ab-741e-4119-e204-cc05461d3b98"
      },
      "execution_count": 19,
      "outputs": [
        {
          "output_type": "stream",
          "name": "stdout",
          "text": [
            "Shape of TF-IDF matrix: (11370, 5000)\n",
            "    ab  abandon  abbott  abby  ability    ablaze  able  aboard  aboriginal  \\\n",
            "0  0.0      0.0     0.0   0.0      0.0  0.275584   0.0     0.0         0.0   \n",
            "1  0.0      0.0     0.0   0.0      0.0  0.000000   0.0     0.0         0.0   \n",
            "2  0.0      0.0     0.0   0.0      0.0  0.535194   0.0     0.0         0.0   \n",
            "3  0.0      0.0     0.0   0.0      0.0  0.535194   0.0     0.0         0.0   \n",
            "4  0.0      0.0     0.0   0.0      0.0  0.306657   0.0     0.0         0.0   \n",
            "5  0.0      0.0     0.0   0.0      0.0  0.349626   0.0     0.0         0.0   \n",
            "6  0.0      0.0     0.0   0.0      0.0  0.312761   0.0     0.0         0.0   \n",
            "7  0.0      0.0     0.0   0.0      0.0  0.306099   0.0     0.0         0.0   \n",
            "8  0.0      0.0     0.0   0.0      0.0  0.302755   0.0     0.0         0.0   \n",
            "9  0.0      0.0     0.0   0.0      0.0  0.292002   0.0     0.0         0.0   \n",
            "\n",
            "   abortion  absolute  absolutely  abstain  abt  abu  \n",
            "0       0.0       0.0         0.0      0.0  0.0  0.0  \n",
            "1       0.0       0.0         0.0      0.0  0.0  0.0  \n",
            "2       0.0       0.0         0.0      0.0  0.0  0.0  \n",
            "3       0.0       0.0         0.0      0.0  0.0  0.0  \n",
            "4       0.0       0.0         0.0      0.0  0.0  0.0  \n",
            "5       0.0       0.0         0.0      0.0  0.0  0.0  \n",
            "6       0.0       0.0         0.0      0.0  0.0  0.0  \n",
            "7       0.0       0.0         0.0      0.0  0.0  0.0  \n",
            "8       0.0       0.0         0.0      0.0  0.0  0.0  \n",
            "9       0.0       0.0         0.0      0.0  0.0  0.0  \n"
          ]
        }
      ]
    },
    {
      "cell_type": "code",
      "execution_count": 6,
      "metadata": {
        "colab": {
          "base_uri": "https://localhost:8080/",
          "height": 633
        },
        "id": "tQDsIhlGAsuZ",
        "outputId": "74b467b2-da2c-4537-d3d5-a5c38252f85d"
      },
      "outputs": [
        {
          "output_type": "stream",
          "name": "stdout",
          "text": [
            "Accuracy: 0.862796833773087\n",
            "Precision: 0.8718045678033747\n",
            "Recall: 0.862796833773087\n",
            "F1-score: 0.8264564334819747\n"
          ]
        },
        {
          "output_type": "display_data",
          "data": {
            "text/plain": [
              "<Figure size 800x600 with 2 Axes>"
            ],
            "image/png": "[encoded data removed]"
          },
          "metadata": {}
        }
      ],
      "source": [
        "import pandas as pd\n",
        "import spacy\n",
        "import matplotlib.pyplot as plt\n",
        "import seaborn as sns\n",
        "from sklearn.model_selection import train_test_split\n",
        "from sklearn.naive_bayes import MultinomialNB\n",
        "from sklearn.metrics import accuracy_score, precision_score, recall_score, f1_score, confusion_matrix\n",
        "\n",
        "df = pd.read_csv(\"/content/tweets[1].csv\")\n",
        "nlp = spacy.load(\"en_core_web_sm\")\n",
        "def preprocess(text):\n",
        "    doc = nlp(str(text))\n",
        "    tokens = [token.lemma_.lower() for token in doc if token.is_alpha and not token.is_stop]\n",
        "    return \" \".join(tokens)\n",
        "\n",
        "df[\"clean_text\"] = df[\"text\"].apply(preprocess)\n",
        "X_train, X_test, y_train, y_test = train_test_split(X, y, test_size=0.2, random_state=42)\n",
        "model = MultinomialNB()\n",
        "model.fit(X_train, y_train)\n",
        "y_pred = model.predict(X_test)\n",
        "accuracy = accuracy_score(y_test, y_pred)\n",
        "precision = precision_score(y_test, y_pred, average=\"weighted\")\n",
        "recall = recall_score(y_test, y_pred, average=\"weighted\")\n",
        "f1 = f1_score(y_test, y_pred, average=\"weighted\")\n",
        "\n",
        "print(\"Accuracy:\", accuracy)\n",
        "print(\"Precision:\", precision)\n",
        "print(\"Recall:\", recall)\n",
        "print(\"F1-score:\", f1)\n",
        "\n",
        "\n",
        "cm = confusion_matrix(y_test, y_pred)\n",
        "labels = sorted(y.unique())\n",
        "\n",
        "plt.figure(figsize=(8,6))\n",
        "sns.heatmap(cm, annot=True, fmt=\"d\", xticklabels=labels, yticklabels=labels, cmap=\"Blues\")\n",
        "plt.xlabel(\"Predicted\")\n",
        "plt.ylabel(\"True\")\n",
        "plt.title(\"Hierarchical Confusion Matrix (Level 1)\")\n",
        "plt.show()\n"
      ]
    }
  ],
  "metadata": {
    "colab": {
      "provenance": [],
      "authorship_tag": "ABX9TyMIhFSqM5YSzTGE4DkSA+Fy",
      "include_colab_link": true
    },
    "kernelspec": {
      "display_name": "Python 3",
      "name": "python3"
    },
    "language_info": {
      "name": "python"
    }
  },
  "nbformat": 4,
  "nbformat_minor": 0
}